{
  "cells": [
    {
      "cell_type": "markdown",
      "id": "42289889-bd57-434e-9637-d3e354756316",
      "metadata": {
        "id": "42289889-bd57-434e-9637-d3e354756316"
      },
      "source": [
        "<center> <img src = https://raw.githubusercontent.com/AndreyRysistov/DatasetsForPandas/main/hh%20label.jpg alt=\"drawing\" style=\"width:400px;\">"
      ]
    },
    {
      "cell_type": "markdown",
      "id": "829cb75b-f14e-4ba8-9195-7ba929a7d656",
      "metadata": {
        "id": "829cb75b-f14e-4ba8-9195-7ba929a7d656",
        "tags": []
      },
      "source": [
        "# <center> Проект: Анализ вакансий из HeadHunter\n",
        "   "
      ]
    },
    {
      "cell_type": "code",
      "execution_count": 1,
      "id": "dccfde33-2452-43fb-a8a5-5c6ebc02a71d",
      "metadata": {
        "id": "dccfde33-2452-43fb-a8a5-5c6ebc02a71d"
      },
      "outputs": [],
      "source": [
        "#!pip install psycopg2\n",
        "#!pip install --trusted-host pypi.org --trusted-host files.pythonhosted.org --trusted-host pypi.python.org psycopg2\n",
        "import pandas as pd\n",
        "import psycopg2"
      ]
    },
    {
      "cell_type": "code",
      "execution_count": 2,
      "id": "oVKH4ehvf8Ay",
      "metadata": {
        "id": "oVKH4ehvf8Ay"
      },
      "outputs": [],
      "source": [
        "DBNAME = 'project_sql'\n",
        "USER = 'skillfactory'\n",
        "PASSWORD = 'cCkxxLVrDE8EbvjueeMedPKt'\n",
        "HOST = '84.201.134.129'\n",
        "PORT = 5432"
      ]
    },
    {
      "cell_type": "code",
      "execution_count": 3,
      "id": "G4X_q8KBf7SF",
      "metadata": {
        "id": "G4X_q8KBf7SF"
      },
      "outputs": [],
      "source": [
        "connection = psycopg2.connect(\n",
        "    dbname=DBNAME,\n",
        "    user=USER,\n",
        "    host=HOST,\n",
        "    password=PASSWORD,\n",
        "    port=PORT\n",
        ")"
      ]
    },
    {
      "cell_type": "markdown",
      "id": "0dc6476b-7a00-44f1-ac93-6e3baed33a29",
      "metadata": {
        "id": "0dc6476b-7a00-44f1-ac93-6e3baed33a29"
      },
      "source": [
        "# Юнит 3. Предварительный анализ данных"
      ]
    },
    {
      "cell_type": "markdown",
      "id": "889782b6-8d1c-410e-8920-e57f27917c64",
      "metadata": {
        "id": "889782b6-8d1c-410e-8920-e57f27917c64"
      },
      "source": [
        "1. Напишите запрос, который посчитает количество вакансий в нашей базе (вакансии находятся в таблице vacancies). "
      ]
    },
    {
      "cell_type": "code",
      "execution_count": 41,
      "id": "bc39e68e-ed02-4ee2-9235-7258a2f867a8",
      "metadata": {
        "id": "bc39e68e-ed02-4ee2-9235-7258a2f867a8"
      },
      "outputs": [],
      "source": [
        "query_3_1 = f'''\n",
        "SELECT *    \n",
        "  FROM vacancies\n",
        "'''"
      ]
    },
    {
      "cell_type": "code",
      "execution_count": 55,
      "id": "7mAwtsk4hEHY",
      "metadata": {
        "id": "7mAwtsk4hEHY"
      },
      "outputs": [
        {
          "name": "stdout",
          "output_type": "stream",
          "text": [
            "Количество вакансий - 49197\n"
          ]
        }
      ],
      "source": [
        "vacancy_df = pd.read_sql_query(query_3_1, connection)\n",
        "print('Количество вакансий -', vacancy_df['id'].nunique())"
      ]
    },
    {
      "cell_type": "markdown",
      "id": "b583485d-1f9e-494e-ada4-80ffff7c53d6",
      "metadata": {
        "id": "b583485d-1f9e-494e-ada4-80ffff7c53d6"
      },
      "source": [
        "2. Напишите запрос, который посчитает количество работодателей (таблица employers). "
      ]
    },
    {
      "cell_type": "code",
      "execution_count": 47,
      "id": "5408c52c-3407-4a63-b25b-1aafa2322d28",
      "metadata": {
        "id": "5408c52c-3407-4a63-b25b-1aafa2322d28"
      },
      "outputs": [],
      "source": [
        "query_3_2 = f'''\n",
        "SELECT *    \n",
        "  FROM employers\n",
        "'''"
      ]
    },
    {
      "cell_type": "code",
      "execution_count": 48,
      "id": "jVL4eshKhdqc",
      "metadata": {
        "id": "jVL4eshKhdqc"
      },
      "outputs": [
        {
          "name": "stdout",
          "output_type": "stream",
          "text": [
            "Количество работодателей - 23501\n"
          ]
        }
      ],
      "source": [
        "employers_df = pd.read_sql_query(query_3_2, connection)\n",
        "print('Количество работодателей -', employers_df['id'].nunique())"
      ]
    },
    {
      "cell_type": "markdown",
      "id": "a2bfff1f-c975-4bf6-84be-2185d79dcb76",
      "metadata": {
        "id": "a2bfff1f-c975-4bf6-84be-2185d79dcb76"
      },
      "source": [
        "3. Посчитате с помощью запроса количество регионов (таблица areas)."
      ]
    },
    {
      "cell_type": "code",
      "execution_count": 49,
      "id": "1m8QJwBYhey6",
      "metadata": {
        "id": "1m8QJwBYhey6"
      },
      "outputs": [],
      "source": [
        "query_3_3 = f'''\n",
        "SELECT *    \n",
        "  FROM areas\n",
        "'''"
      ]
    },
    {
      "cell_type": "code",
      "execution_count": 50,
      "id": "EZsn9tlfhe7f",
      "metadata": {
        "id": "EZsn9tlfhe7f"
      },
      "outputs": [
        {
          "name": "stdout",
          "output_type": "stream",
          "text": [
            "Количество регионов - 1362\n"
          ]
        }
      ],
      "source": [
        "areas_df = pd.read_sql_query(query_3_3, connection)\n",
        "print('Количество регионов -', areas_df['id'].nunique())"
      ]
    },
    {
      "cell_type": "markdown",
      "id": "41bb59f3-53cc-4a67-a5bc-bedf573955e4",
      "metadata": {
        "id": "41bb59f3-53cc-4a67-a5bc-bedf573955e4"
      },
      "source": [
        "4. Посчитате с помощью запроса количество сфер деятельности в базе (таблица industries)."
      ]
    },
    {
      "cell_type": "code",
      "execution_count": 53,
      "id": "d286cf4c-707b-4cd2-9190-7ab3587d04a1",
      "metadata": {
        "id": "d286cf4c-707b-4cd2-9190-7ab3587d04a1"
      },
      "outputs": [],
      "source": [
        "query_3_4 = f'''\n",
        "SELECT *    \n",
        "  FROM industries\n",
        "'''"
      ]
    },
    {
      "cell_type": "code",
      "execution_count": 54,
      "id": "JYAaoZ4qhfzW",
      "metadata": {
        "id": "JYAaoZ4qhfzW"
      },
      "outputs": [
        {
          "name": "stdout",
          "output_type": "stream",
          "text": [
            "Количество сфер деятельности - 294\n"
          ]
        }
      ],
      "source": [
        "industry_df = pd.read_sql_query(query_3_4, connection)\n",
        "print('Количество сфер деятельности -', industry_df['id'].nunique())"
      ]
    },
    {
      "cell_type": "markdown",
      "id": "9a8a2181-6914-448b-85f1-38f5f18b8a93",
      "metadata": {
        "id": "9a8a2181-6914-448b-85f1-38f5f18b8a93"
      },
      "source": [
        "***"
      ]
    },
    {
      "attachments": {},
      "cell_type": "markdown",
      "id": "55faf74e",
      "metadata": {},
      "source": [
        "Из представленной выше статистики можно сделать следующие выводы:\n",
        "* База данных содержит обширный набор данных, который включает в себя:\n",
        "    * 49197 уникальных вакансий от 23501 уникальных работодателей.\n",
        "    * Вышеперечисленные вакансии представленны в 294-х различных сферах деятельности и расположены в 1362-х регионах."
      ]
    },
    {
      "cell_type": "markdown",
      "id": "8d62a9f3-f64e-4fe7-bdac-c4dffa16155e",
      "metadata": {
        "id": "8d62a9f3-f64e-4fe7-bdac-c4dffa16155e"
      },
      "source": [
        "# Юнит 4. Детальный анализ вакансий"
      ]
    },
    {
      "cell_type": "markdown",
      "id": "93053d3d-b284-481a-9cf7-012d7014c0e0",
      "metadata": {
        "id": "93053d3d-b284-481a-9cf7-012d7014c0e0"
      },
      "source": [
        "1. Напишите запрос, который позволит узнать, сколько (cnt) вакансий в каждом регионе (area).\n",
        "Отсортируйте по количеству вакансий в порядке убывания."
      ]
    },
    {
      "cell_type": "code",
      "execution_count": 64,
      "id": "3f069da6-fdc9-4ae7-b514-fafe2675efd3",
      "metadata": {
        "id": "3f069da6-fdc9-4ae7-b514-fafe2675efd3"
      },
      "outputs": [],
      "source": [
        "query_3_5 = f'''\n",
        "SELECT \n",
        "COUNT(v.id) cnt,\n",
        "a.name  area   \n",
        "  FROM vacancies v\n",
        "  JOIN areas a ON v.area_id = a.id\n",
        "  GROUP BY a.id \n",
        "ORDER BY  cnt DESC\n",
        "'''"
      ]
    },
    {
      "cell_type": "code",
      "execution_count": 69,
      "id": "P7QL86hrjhRJ",
      "metadata": {
        "id": "P7QL86hrjhRJ"
      },
      "outputs": [
        {
          "name": "stdout",
          "output_type": "stream",
          "text": [
            "Пятёрку лидеров по количеству вакансий:\n",
            "     cnt             area\n",
            "0  5333           Москва\n",
            "1  2851  Санкт-Петербург\n",
            "2  2112            Минск\n",
            "3  2006      Новосибирск\n",
            "4  1892           Алматы\n"
          ]
        }
      ],
      "source": [
        "query_3_5_df = pd.read_sql_query(query_3_5, connection)\n",
        "print('Пятёрку лидеров по количеству вакансий:\\n',  query_3_5_df.head(5))"
      ]
    },
    {
      "cell_type": "markdown",
      "id": "4266f0b6-1646-492a-88b4-2f6a46502135",
      "metadata": {
        "id": "4266f0b6-1646-492a-88b4-2f6a46502135"
      },
      "source": [
        "2. Напишите запрос, чтобы определить у какого количества вакансий заполнено хотя бы одно из двух полей с зарплатой."
      ]
    },
    {
      "cell_type": "code",
      "execution_count": 80,
      "id": "0c44b350-72eb-4d65-8b54-a1fc449ba9fd",
      "metadata": {
        "id": "0c44b350-72eb-4d65-8b54-a1fc449ba9fd"
      },
      "outputs": [],
      "source": [
        "query_3_6 = f'''\n",
        "SELECT \n",
        "id,\n",
        "salary_from,\n",
        "salary_to  \n",
        "  FROM vacancies v\n",
        "   WHERE salary_from IS NOT NULL OR salary_to IS NOT NULL\n",
        "'''"
      ]
    },
    {
      "cell_type": "code",
      "execution_count": 81,
      "id": "rhvwaMDkoWTi",
      "metadata": {
        "id": "rhvwaMDkoWTi"
      },
      "outputs": [
        {
          "name": "stdout",
          "output_type": "stream",
          "text": [
            "Количество вакансий у которых заполнено хотя бы одно из двух полей с зарплатой - 24073\n"
          ]
        }
      ],
      "source": [
        "query_3_6_df = pd.read_sql_query(query_3_6, connection)\n",
        "print('Количество вакансий у которых заполнено хотя бы одно из двух полей с зарплатой -',  query_3_6_df.shape[0])"
      ]
    },
    {
      "cell_type": "markdown",
      "id": "635c4d5d-f323-4c66-b428-50a088120aa0",
      "metadata": {
        "id": "635c4d5d-f323-4c66-b428-50a088120aa0"
      },
      "source": [
        "3. Найдите средние значения для нижней и верхней границы зарплатной вилки. Округлите значения до целого."
      ]
    },
    {
      "cell_type": "code",
      "execution_count": 84,
      "id": "603cdbe4-0ec3-4106-8eaf-c73fcdd29165",
      "metadata": {
        "id": "603cdbe4-0ec3-4106-8eaf-c73fcdd29165"
      },
      "outputs": [],
      "source": [
        "query_3_7 = f'''\n",
        "SELECT \n",
        "AVG(salary_from) salary_bottom,\n",
        "AVG(salary_to) salary_top\n",
        "  FROM vacancies v\n",
        "'''"
      ]
    },
    {
      "cell_type": "code",
      "execution_count": 91,
      "id": "pswpAb66ovZZ",
      "metadata": {
        "id": "pswpAb66ovZZ"
      },
      "outputs": [
        {
          "name": "stdout",
          "output_type": "stream",
          "text": [
            "Среднее значение для нижней границы зарплаты - 71065.0\n",
            "Среднее значение для верхней границы зарплаты - 110537.0\n"
          ]
        }
      ],
      "source": [
        "query_3_7_df = pd.read_sql_query(query_3_7, connection)\n",
        "print('Среднее значение для нижней границы зарплаты -',  round(query_3_7_df['salary_bottom'][0], 0))\n",
        "print('Среднее значение для верхней границы зарплаты -',  round(query_3_7_df['salary_top'][0], 0))"
      ]
    },
    {
      "cell_type": "markdown",
      "id": "f3fdaec9-5fd3-4260-9cf5-1d7406b628a5",
      "metadata": {
        "id": "f3fdaec9-5fd3-4260-9cf5-1d7406b628a5"
      },
      "source": [
        "4. Напишите запрос, который выведет количество вакансий для каждого сочетания типа рабочего графика (schedule) и типа трудоустройства (employment), используемого в вакансиях. Результат отсортируйте по убыванию количества.\n"
      ]
    },
    {
      "cell_type": "code",
      "execution_count": 92,
      "id": "1ea710ec-871b-431e-9462-c7d0fd87011b",
      "metadata": {
        "id": "1ea710ec-871b-431e-9462-c7d0fd87011b"
      },
      "outputs": [],
      "source": [
        "query_3_8 = f'''\n",
        "SELECT \n",
        "COUNT(*) num_vacancies,\n",
        "employment, \n",
        "schedule\n",
        "  FROM vacancies v\n",
        "  GROUP BY employment, schedule\n",
        "  ORDER BY num_vacancies DESC\n",
        "'''"
      ]
    },
    {
      "cell_type": "code",
      "execution_count": 128,
      "id": "lGUVqavdo4JQ",
      "metadata": {
        "id": "lGUVqavdo4JQ"
      },
      "outputs": [
        {
          "data": {
            "text/html": [
              "<div>\n",
              "<style scoped>\n",
              "    .dataframe tbody tr th:only-of-type {\n",
              "        vertical-align: middle;\n",
              "    }\n",
              "\n",
              "    .dataframe tbody tr th {\n",
              "        vertical-align: top;\n",
              "    }\n",
              "\n",
              "    .dataframe thead th {\n",
              "        text-align: right;\n",
              "    }\n",
              "</style>\n",
              "<table border=\"1\" class=\"dataframe\">\n",
              "  <thead>\n",
              "    <tr style=\"text-align: right;\">\n",
              "      <th></th>\n",
              "      <th>schedule</th>\n",
              "      <th>employment</th>\n",
              "    </tr>\n",
              "  </thead>\n",
              "  <tbody>\n",
              "    <tr>\n",
              "      <th>1</th>\n",
              "      <td>Удаленная работа</td>\n",
              "      <td>Полная занятость</td>\n",
              "    </tr>\n",
              "  </tbody>\n",
              "</table>\n",
              "</div>"
            ],
            "text/plain": [
              "           schedule        employment\n",
              "1  Удаленная работа  Полная занятость"
            ]
          },
          "execution_count": 128,
          "metadata": {},
          "output_type": "execute_result"
        }
      ],
      "source": [
        "query_3_8_df = pd.read_sql_query(query_3_8, connection)\n",
        "query_3_8_df[query_3_8_df['num_vacancies']==query_3_8_df['num_vacancies'].nlargest(2)[1]][['schedule','employment']]"
      ]
    },
    {
      "cell_type": "markdown",
      "id": "0136ffee-0ead-4a6b-b608-61d1c753a438",
      "metadata": {
        "id": "0136ffee-0ead-4a6b-b608-61d1c753a438"
      },
      "source": [
        "5. Напишите запрос, выводящий значения поля Требуемый опыт работы (experience) в порядке возрастания количества вакансий, в которых указан данный вариант опыта. "
      ]
    },
    {
      "cell_type": "code",
      "execution_count": 117,
      "id": "5b3a8e79-f7ab-4008-b767-12aea3a205ea",
      "metadata": {
        "id": "5b3a8e79-f7ab-4008-b767-12aea3a205ea"
      },
      "outputs": [],
      "source": [
        "query_3_9 = f'''\n",
        "SELECT \n",
        "COUNT(*) num_vacancies,\n",
        "experience\n",
        "  FROM vacancies v\n",
        "  GROUP BY experience\n",
        "  ORDER BY num_vacancies ASC\n",
        "'''"
      ]
    },
    {
      "cell_type": "code",
      "execution_count": 118,
      "id": "3Is64Y-hpDpq",
      "metadata": {
        "id": "3Is64Y-hpDpq"
      },
      "outputs": [
        {
          "name": "stdout",
          "output_type": "stream",
          "text": [
            "Требуемый опыт работы в порядке возрастания: \n",
            " 0           Более 6 лет\n",
            "1             Нет опыта\n",
            "2         От 3 до 6 лет\n",
            "3    От 1 года до 3 лет\n",
            "Name: experience, dtype: object\n"
          ]
        }
      ],
      "source": [
        "query_3_9_df = pd.read_sql_query(query_3_9, connection)\n",
        "print('Требуемый опыт работы в порядке возрастания: \\n',  query_3_9_df['experience'].iloc[:4])\n"
      ]
    },
    {
      "cell_type": "markdown",
      "id": "oq2b7n1QpIka",
      "metadata": {
        "id": "oq2b7n1QpIka"
      },
      "source": [
        "***"
      ]
    },
    {
      "attachments": {},
      "cell_type": "markdown",
      "id": "e51ea380",
      "metadata": {},
      "source": [
        "Из представленной выше статистики можно сделать следующие выводы:\n",
        "* Количество вакансий в крупных населенных пунктах имеет положительную ассоциацию с количеством населения в городах (вполне логично):\n",
        "* Около половины всех вакансий указывыют хотя бы один из признаков зарплаты (верхний или нижний предел).\n",
        "* Касательно предела зарплат, то средняя величина верхней границы заплаты (110537) в полтора раза больше нижней границы заплаты (71065).\n",
        "* Наиболее популярным сочетанием типа рабочего графика и типа трудоустройства является - \"Полный день\" и \"Полная занятость\". Вторым по популятности является \"Удаленная работа\" и \"Полная занятость\". Наименее популярной является \"Сменный график\" и \"Проектная работа\".\n",
        "* Наиболее популярным опытом работы исходя из количества вакансий является \"От 1 года до 3 лет\". Тогда как наименее популярным является \"Более 6 лет\"."
      ]
    },
    {
      "cell_type": "markdown",
      "id": "7ea20ab6-04a7-40a0-adec-443a0e5a42c3",
      "metadata": {
        "id": "7ea20ab6-04a7-40a0-adec-443a0e5a42c3"
      },
      "source": [
        "# Юнит 5. Анализ работодателей"
      ]
    },
    {
      "cell_type": "markdown",
      "id": "968aed80-74ef-4ffb-b5bf-c65b84e9caea",
      "metadata": {
        "id": "968aed80-74ef-4ffb-b5bf-c65b84e9caea"
      },
      "source": [
        "1. Напишите запрос, который позволит узнать, какие работодатели находятся на первом и пятом месте по количеству вакансий."
      ]
    },
    {
      "cell_type": "code",
      "execution_count": 11,
      "id": "f2d62796-d400-4ec1-a675-88112739a50e",
      "metadata": {
        "id": "f2d62796-d400-4ec1-a675-88112739a50e"
      },
      "outputs": [],
      "source": [
        "query_3_10 = f'''\n",
        "SELECT \n",
        "COUNT(v.id) num_vacancies,\n",
        "e.name\n",
        "  FROM employers e\n",
        "  JOIN vacancies v ON e.id=v.employer_id\n",
        "  GROUP BY e.id\n",
        "  ORDER BY num_vacancies DESC\n",
        "  LIMIT 5\n",
        "'''"
      ]
    },
    {
      "cell_type": "code",
      "execution_count": 12,
      "id": "64tOMkAxqkQk",
      "metadata": {
        "id": "64tOMkAxqkQk"
      },
      "outputs": [
        {
          "name": "stdout",
          "output_type": "stream",
          "text": [
            "Работодатель, который находится на первом месте по количеству вакансий - Яндекс\n",
            "Работодатель, который находится на пятом месте по количеству вакансий - Газпром нефть\n"
          ]
        }
      ],
      "source": [
        "query_3_10_df = pd.read_sql_query(query_3_10, connection)\n",
        "print('Работодатель, который находится на первом месте по количеству вакансий -', query_3_10_df['name'][0] )\n",
        "print('Работодатель, который находится на пятом месте по количеству вакансий -', query_3_10_df['name'][4])"
      ]
    },
    {
      "cell_type": "markdown",
      "id": "68377cfc-b378-43dc-ab7d-1195abf2c515",
      "metadata": {
        "id": "68377cfc-b378-43dc-ab7d-1195abf2c515"
      },
      "source": [
        "2. Напишите запрос, который для каждого региона выведет количество работодателей и вакансий в нём.\n",
        "Среди регионов, в которых нет вакансий, найдите тот, в котором наибольшее количество работодателей.\n"
      ]
    },
    {
      "cell_type": "code",
      "execution_count": 28,
      "id": "dd7df27a-e3e8-412e-a21a-5d389b71e891",
      "metadata": {
        "id": "dd7df27a-e3e8-412e-a21a-5d389b71e891"
      },
      "outputs": [],
      "source": [
        "query_3_11 = f'''\n",
        "SELECT \n",
        "a.name region,\n",
        "COUNT(e.id) num_employers,\n",
        "COUNT(v.id) num_vacancies\n",
        "  FROM areas a\n",
        "  LEFT JOIN employers e ON e.area=a.id\n",
        "  LEFT JOIN vacancies v ON a.id=v.area_id\n",
        "  GROUP BY a.id\n",
        "'''"
      ]
    },
    {
      "cell_type": "code",
      "execution_count": 58,
      "id": "x1ikWbydrbf6",
      "metadata": {
        "id": "x1ikWbydrbf6"
      },
      "outputs": [
        {
          "name": "stdout",
          "output_type": "stream",
          "text": [
            "Среди регионов, в которых нет вакансий, наибольшее количество работодателей находится в регионе под названием - Россия\n"
          ]
        }
      ],
      "source": [
        "query_3_11_df = pd.read_sql_query(query_3_11, connection)\n",
        "no_vacan_index= query_3_11_df[query_3_11_df['num_vacancies']==0]['num_employers'].nlargest(1).index\n",
        "print('Среди регионов, в которых нет вакансий, наибольшее количество работодателей находится в регионе под названием -', query_3_11_df['region'].iloc[no_vacan_index].iloc[0])"
      ]
    },
    {
      "cell_type": "markdown",
      "id": "f2fe0acb-ab1a-4e15-9326-2560e22d73c1",
      "metadata": {
        "id": "f2fe0acb-ab1a-4e15-9326-2560e22d73c1"
      },
      "source": [
        "3. Для каждого работодателя посчитайте количество регионов, в которых он публикует свои вакансии. Отсортируйте результат по убыванию количества.\n"
      ]
    },
    {
      "cell_type": "code",
      "execution_count": 71,
      "id": "6271f8ad-bd2e-4196-ae4a-5b39c4c1010e",
      "metadata": {
        "id": "6271f8ad-bd2e-4196-ae4a-5b39c4c1010e"
      },
      "outputs": [],
      "source": [
        "query_3_12 = f'''\n",
        "SELECT\n",
        "COUNT(DISTINCT v.area_id) num_regions\n",
        "  FROM vacancies v\n",
        "  WHERE employer_id IS NOT NULL and area_id IS NOT NULL\n",
        "  GROUP BY employer_id\n",
        "  ORDER BY num_regions DESC\n",
        "'''"
      ]
    },
    {
      "cell_type": "code",
      "execution_count": 72,
      "id": "1EIvX3HasH4F",
      "metadata": {
        "id": "1EIvX3HasH4F"
      },
      "outputs": [
        {
          "name": "stdout",
          "output_type": "stream",
          "text": [
            "Махимальное количество регионов, к которых работодатель публикует свои вакансии - 181\n"
          ]
        }
      ],
      "source": [
        "query_3_12_df = pd.read_sql_query(query_3_12, connection)\n",
        "print('Махимальное количество регионов, к которых работодатель публикует свои вакансии -', query_3_12_df['num_regions'].max())\n",
        "\n",
        "#Также можно использовать код ниже (т.к. мы уже отсортировали по количеству регионов в запросе)\n",
        "#print('Махимальное количество регионов, к которых работодатель публикует свои вакансии -', query_3_12_df['num_regions'].iloc[0])"
      ]
    },
    {
      "cell_type": "markdown",
      "id": "eab2206d-d95b-468b-8e5f-34381abf0ce7",
      "metadata": {
        "id": "eab2206d-d95b-468b-8e5f-34381abf0ce7"
      },
      "source": [
        "4. Напишите запрос для подсчёта количества работодателей, у которых не указана сфера деятельности. "
      ]
    },
    {
      "cell_type": "code",
      "execution_count": 74,
      "id": "80defb23-bfb1-4a18-8be6-bf36aa7165d5",
      "metadata": {
        "id": "80defb23-bfb1-4a18-8be6-bf36aa7165d5"
      },
      "outputs": [],
      "source": [
        "query_3_13 = f''' \n",
        "SELECT \n",
        "COUNT(DISTINCT e.id) employer_num\n",
        "  FROM employers e\n",
        "  LEFT JOIN employers_industries e_i ON e_i.employer_id=e.id\n",
        "  WHERE industry_id IS NULL\n",
        "  GROUP BY employer_id\n",
        "  ORDER BY employer_num DESC\n",
        "'''"
      ]
    },
    {
      "cell_type": "code",
      "execution_count": 75,
      "id": "Dp_yCx6ysQSu",
      "metadata": {
        "id": "Dp_yCx6ysQSu"
      },
      "outputs": [
        {
          "name": "stdout",
          "output_type": "stream",
          "text": [
            "Количества работодателей, у которых не указана сфера деятельности - 8419\n"
          ]
        }
      ],
      "source": [
        "query_3_13_df = pd.read_sql_query(query_3_13, connection)\n",
        "print('Количества работодателей, у которых не указана сфера деятельности -', query_3_13_df['employer_num'].iloc[0])"
      ]
    },
    {
      "cell_type": "markdown",
      "id": "0112af31-f6b0-4e3b-82ab-71296e752e5e",
      "metadata": {
        "id": "0112af31-f6b0-4e3b-82ab-71296e752e5e"
      },
      "source": [
        "5. Напишите запрос, чтобы узнать название компании, находящейся на третьем месте в алфавитном списке (по названию) компаний, у которых указано четыре сферы деятельности. "
      ]
    },
    {
      "cell_type": "code",
      "execution_count": 77,
      "id": "973b0cfc-a972-470a-8b4a-68744ef220c4",
      "metadata": {
        "id": "973b0cfc-a972-470a-8b4a-68744ef220c4"
      },
      "outputs": [],
      "source": [
        "query_3_14 = f''' \n",
        "SELECT \n",
        "e.name company_name\n",
        "  FROM employers e\n",
        "  LEFT JOIN employers_industries e_i ON e_i.employer_id=e.id\n",
        "  WHERE industry_id IS NOT NULL\n",
        "  GROUP BY e.id\n",
        "  HAVING COUNT(e.id)=4\n",
        "  ORDER BY company_name ASC\n",
        "  OFFSET 2 LIMIT 1\n",
        "''' "
      ]
    },
    {
      "cell_type": "code",
      "execution_count": 78,
      "id": "xsPtpp8EsaED",
      "metadata": {
        "id": "xsPtpp8EsaED"
      },
      "outputs": [
        {
          "name": "stdout",
          "output_type": "stream",
          "text": [
            "Название компании находящейся на третьем месте в алфавитном списке (по названию) компаний, у которых указано четыре сферы деятельности - 2ГИС\n"
          ]
        }
      ],
      "source": [
        "query_3_14 = pd.read_sql_query(query_3_14, connection)\n",
        "print('Название компании находящейся на третьем месте в алфавитном списке (по названию) компаний, у которых указано четыре сферы деятельности -', query_3_14['company_name'].iloc[0])"
      ]
    },
    {
      "cell_type": "markdown",
      "id": "3bfcfdaf-755d-4d2b-8ed8-326201dc07ab",
      "metadata": {
        "id": "3bfcfdaf-755d-4d2b-8ed8-326201dc07ab"
      },
      "source": [
        "6. С помощью запроса выясните, у какого количества работодателей в качестве сферы деятельности указана Разработка программного обеспечения.\n"
      ]
    },
    {
      "cell_type": "code",
      "execution_count": 80,
      "id": "ad3f270f-2991-47eb-929b-e8f88a55b0d1",
      "metadata": {
        "id": "ad3f270f-2991-47eb-929b-e8f88a55b0d1"
      },
      "outputs": [],
      "source": [
        "query_3_15 = f''' \n",
        "SELECT \n",
        "COUNT(*) employers_num\n",
        "  FROM employers e\n",
        "  LEFT JOIN employers_industries e_i ON e_i.employer_id=e.id\n",
        "  LEFT JOIN industries i ON i.id=e_i.industry_id\n",
        "  WHERE i.name = 'Разработка программного обеспечения'\n",
        "'''  "
      ]
    },
    {
      "cell_type": "code",
      "execution_count": 81,
      "id": "H72qxWM0shPR",
      "metadata": {
        "id": "H72qxWM0shPR"
      },
      "outputs": [
        {
          "name": "stdout",
          "output_type": "stream",
          "text": [
            "Количество работодателей, у которых в качестве сферы деятельности указана «Разработка программного обеспечения» - 3553\n"
          ]
        }
      ],
      "source": [
        "query_3_15 = pd.read_sql_query(query_3_15, connection)\n",
        "print('Количество работодателей, у которых в качестве сферы деятельности указана «Разработка программного обеспечения» -', query_3_15['employers_num'].iloc[0])"
      ]
    },
    {
      "cell_type": "markdown",
      "id": "7b02bb86-0546-40fb-94a4-242f050a5c57",
      "metadata": {
        "id": "7b02bb86-0546-40fb-94a4-242f050a5c57"
      },
      "source": [
        "7. Для компании «Яндекс» выведите список регионов-миллионников, в которых представлены вакансии компании, вместе с количеством вакансий в этих регионах. Также добавьте строку Total с общим количеством вакансий компании. Результат отсортируйте по возрастанию количества.\n",
        "\n",
        "Список городов-милионников надо взять [отсюда](https://ru.wikipedia.org/wiki/%D0%93%D0%BE%D1%80%D0%BE%D0%B4%D0%B0-%D0%BC%D0%B8%D0%BB%D0%BB%D0%B8%D0%BE%D0%BD%D0%B5%D1%80%D1%8B_%D0%A0%D0%BE%D1%81%D1%81%D0%B8%D0%B8). \n",
        "\n",
        "Если возникнут трудности с этим задание посмотрите материалы модуля  PYTHON-17. Как получать данные из веб-источников и API. "
      ]
    },
    {
      "cell_type": "code",
      "execution_count": 248,
      "id": "ZdfrL6gIs1Pn",
      "metadata": {
        "id": "ZdfrL6gIs1Pn"
      },
      "outputs": [],
      "source": [
        "# код для получения списка городов-милионников\n",
        "import requests # Импортируем библиотеку requests\n",
        "from bs4 import BeautifulSoup # Импортируем библиотеку BeautifulSoup\n",
        "import re\n",
        "\n",
        "url = 'https://ru.wikipedia.org/wiki/%D0%93%D0%BE%D1%80%D0%BE%D0%B4%D0%B0-%D0%BC%D0%B8%D0%BB%D0%BB%D0%B8%D0%BE%D0%BD%D0%B5%D1%80%D1%8B_%D0%A0%D0%BE%D1%81%D1%81%D0%B8%D0%B8' # Определяем адрес страницы\n",
        "response = requests.get(url)\n",
        "page = BeautifulSoup(response.text, 'html.parser')\n",
        "string_of_cities = page.find('table', class_='standard').text\n",
        "clean_strings = re.findall('[А-Яа-я-\\s]+', string_of_cities)\n",
        "clean_strings = [ele for ele in clean_strings if ele != ' '] # Удаляем элементы, которые равны пустым значениям\n",
        "#Создаем кортеж из городов миллионников, чтобы использовать его в SQL запросе\n",
        "city_tuple = tuple(clean_strings[11:]) #Отбрасываем первый 11 значений в clean_strings, т.к. это текст не относится к городам"
      ]
    },
    {
      "cell_type": "code",
      "execution_count": 249,
      "id": "76c01085",
      "metadata": {},
      "outputs": [],
      "source": [
        "query_3_16 = f''' \n",
        "SELECT \n",
        "a.name,\n",
        "COUNT(v.id) cnt\n",
        "  FROM vacancies v \n",
        "  JOIN employers e ON e.id=v.employer_id\n",
        "  JOIN areas a ON a.id=v.area_id\n",
        "  WHERE e.name = 'Яндекс' AND a.name IN {city_tuple}\n",
        "GROUP BY a.name  \n",
        "\n",
        "UNION ALL\n",
        "SELECT\n",
        "'Total', COUNT(v.id)\n",
        "  FROM vacancies v \n",
        "  JOIN employers e ON e.id=v.employer_id\n",
        "  JOIN areas a ON a.id=v.area_id\n",
        "  WHERE e.name = 'Яндекс' AND a.name IN {city_tuple}\n",
        "GROUP BY e.name\n",
        "ORDER BY cnt \n",
        "'''"
      ]
    },
    {
      "cell_type": "code",
      "execution_count": 250,
      "id": "736e1bf7",
      "metadata": {},
      "outputs": [
        {
          "name": "stdout",
          "output_type": "stream",
          "text": [
            "Фильная таблица: \n",
            "                name  cnt\n",
            "0              Омск   21\n",
            "1         Челябинск   22\n",
            "2        Красноярск   23\n",
            "3         Волгоград   24\n",
            "4             Пермь   25\n",
            "5            Казань   25\n",
            "6    Ростов-на-Дону   25\n",
            "7               Уфа   26\n",
            "8            Самара   26\n",
            "9         Краснодар   30\n",
            "10          Воронеж   32\n",
            "11      Новосибирск   35\n",
            "12  Нижний Новгород   36\n",
            "13     Екатеринбург   39\n",
            "14  Санкт-Петербург   42\n",
            "15           Москва   54\n",
            "16            Total  485\n",
            "\n",
            "\n",
            "Количество строк в таблице -  17\n",
            "Значение строки `Total' -  485\n"
          ]
        }
      ],
      "source": [
        "query_3_16 = pd.read_sql_query(query_3_16, connection)\n",
        "#print(\"Фильная таблица: \\n\", query_3_16)\n",
        "print(\"Финальная таблица: \\n\", query_3_16)\n",
        "print('\\n')\n",
        "print(\"Количество строк в таблице -\", query_3_16.shape[0])\n",
        "print(\"Значение строки `Total' -\", query_3_16[query_3_16['name'] == 'Total']['cnt'].iloc[0])\n"
      ]
    },
    {
      "cell_type": "markdown",
      "id": "04966e40-3bc3-4dc8-9ba2-e80580ce3abc",
      "metadata": {
        "id": "04966e40-3bc3-4dc8-9ba2-e80580ce3abc"
      },
      "source": [
        "***"
      ]
    },
    {
      "attachments": {},
      "cell_type": "markdown",
      "id": "25992378",
      "metadata": {},
      "source": [
        "Из представленной выше статистики можно сделать следующие выводы:\n",
        "* Топ-5 работодателей (по количеству предлагаемых работ) - Яндекс, Ростелеком, Тинькофф, СБЕР, Газпром нефть. На них суммарно приходится 3627 вакансии или 7.4%. \n",
        "* Топ-5 регионов по количеству вакансий – Москва, Санкт-Петербург, Минск, Алматы, Новосибирск (код: Приложение-1). \n",
        "* Наибольшее количество вакансий, которые публикуют регионы, равно – 181.\n",
        "* Общее число работодателей, у которых не указана сфера деятельности равна – 8419.\n",
        "* Топ-5 компаний с наибольшим числом сфер деятельности (5) - Группа компаний МегаМейд, КЗ ПромКотлоСнаб, Транзит, Фирма Гера,  Этажи, федеральная компания (код: Приложение-2).\n",
        "* Разработкой программного обеспечения занимаются 3553 работодателей. \n",
        "* Компания Яндекс предлагает вакансии во всех городах-миллионников (г-м), с наибольшим количеством вакансий в Москве (54) и общим количеством вакансий в г-м равным 485.\n"
      ]
    },
    {
      "cell_type": "markdown",
      "id": "b1ef156a-efcb-49ce-bb23-90763e7f35b2",
      "metadata": {
        "id": "b1ef156a-efcb-49ce-bb23-90763e7f35b2",
        "tags": []
      },
      "source": [
        "# Юнит 6. Предметный анализ"
      ]
    },
    {
      "cell_type": "markdown",
      "id": "b9cd50a0-992d-4988-8463-2b2b1c4629b4",
      "metadata": {
        "id": "b9cd50a0-992d-4988-8463-2b2b1c4629b4"
      },
      "source": [
        "1. Сколько вакансий имеет отношение к данным?\n",
        "\n",
        "Считаем, что вакансия имеет отношение к данным, если в её названии содержатся слова 'data' или 'данн'.\n",
        "\n",
        "*Подсказка: Обратите внимание, что названия вакансий могут быть написаны в любом регистре.* \n"
      ]
    },
    {
      "cell_type": "code",
      "execution_count": null,
      "id": "54ab0e50-c0f1-47cc-a54b-bc5c8bc363f9",
      "metadata": {
        "id": "54ab0e50-c0f1-47cc-a54b-bc5c8bc363f9"
      },
      "outputs": [],
      "source": [
        "# текст запроса"
      ]
    },
    {
      "cell_type": "code",
      "execution_count": null,
      "id": "9F1meAqsuUjd",
      "metadata": {
        "id": "9F1meAqsuUjd"
      },
      "outputs": [],
      "source": [
        "# результат запроса"
      ]
    },
    {
      "cell_type": "markdown",
      "id": "4dea20cb-a36b-474a-a0b9-e08e8e3857a5",
      "metadata": {
        "id": "4dea20cb-a36b-474a-a0b9-e08e8e3857a5"
      },
      "source": [
        "2. Сколько есть подходящих вакансий для начинающего дата-сайентиста? \n",
        "Будем считать вакансиями для дата-сайентистов такие, в названии которых есть хотя бы одно из следующих сочетаний:\n",
        "* 'data scientist'\n",
        "* 'data science'\n",
        "* 'исследователь данных'\n",
        "* 'ML' (здесь не нужно брать вакансии по HTML)\n",
        "* 'machine learning'\n",
        "* 'машинн%обучен%'\n",
        "\n",
        "** В следующих заданиях мы продолжим работать с вакансиями по этому условию.*\n",
        "\n",
        "Считаем вакансиями для специалистов уровня Junior следующие:\n",
        "* в названии есть слово 'junior' *или*\n",
        "* требуемый опыт — Нет опыта *или*\n",
        "* тип трудоустройства — Стажировка.\n",
        " "
      ]
    },
    {
      "cell_type": "code",
      "execution_count": null,
      "id": "9c61b3c0-bb66-46c9-ae1e-81d3f5752b4a",
      "metadata": {
        "id": "9c61b3c0-bb66-46c9-ae1e-81d3f5752b4a"
      },
      "outputs": [],
      "source": [
        "# текст запроса"
      ]
    },
    {
      "cell_type": "code",
      "execution_count": null,
      "id": "ZNM-LLYuu1dj",
      "metadata": {
        "id": "ZNM-LLYuu1dj"
      },
      "outputs": [],
      "source": [
        "# результат запроса"
      ]
    },
    {
      "cell_type": "markdown",
      "id": "eedceb80-c5ca-480e-b27a-278dfb8b4438",
      "metadata": {
        "id": "eedceb80-c5ca-480e-b27a-278dfb8b4438"
      },
      "source": [
        "3. Сколько есть вакансий для DS, в которых в качестве ключевого навыка указан SQL или postgres?\n",
        "\n",
        "** Критерии для отнесения вакансии к DS указаны в предыдущем задании.*"
      ]
    },
    {
      "cell_type": "code",
      "execution_count": null,
      "id": "69621713-0cc5-4f1b-a1d7-bb144fa6148c",
      "metadata": {
        "id": "69621713-0cc5-4f1b-a1d7-bb144fa6148c"
      },
      "outputs": [],
      "source": [
        "# текст запроса"
      ]
    },
    {
      "cell_type": "code",
      "execution_count": null,
      "id": "alA8WEAAvGdf",
      "metadata": {
        "id": "alA8WEAAvGdf"
      },
      "outputs": [],
      "source": [
        "# результат запроса"
      ]
    },
    {
      "cell_type": "markdown",
      "id": "1be1e9c6-37cf-4a5f-bfeb-04cab799dc80",
      "metadata": {
        "id": "1be1e9c6-37cf-4a5f-bfeb-04cab799dc80"
      },
      "source": [
        "4. Проверьте, насколько популярен Python в требованиях работодателей к DS.Для этого вычислите количество вакансий, в которых в качестве ключевого навыка указан Python.\n",
        "\n",
        "** Это можно сделать помощью запроса, аналогичного предыдущему.*"
      ]
    },
    {
      "cell_type": "code",
      "execution_count": null,
      "id": "0036a355-9ccf-4564-8b01-73d8194297e7",
      "metadata": {
        "id": "0036a355-9ccf-4564-8b01-73d8194297e7"
      },
      "outputs": [],
      "source": [
        "# текст запроса"
      ]
    },
    {
      "cell_type": "code",
      "execution_count": null,
      "id": "1i-5WyucvQ6v",
      "metadata": {
        "id": "1i-5WyucvQ6v"
      },
      "outputs": [],
      "source": [
        "# результат запроса"
      ]
    },
    {
      "cell_type": "markdown",
      "id": "ec3c8db7-fa21-4a41-a994-1af63742a642",
      "metadata": {
        "id": "ec3c8db7-fa21-4a41-a994-1af63742a642"
      },
      "source": [
        "5. Сколько ключевых навыков в среднем указывают в вакансиях для DS?\n",
        "Ответ округлите до двух знаков после точки-разделителя."
      ]
    },
    {
      "cell_type": "code",
      "execution_count": null,
      "id": "949132bc-d5b6-4611-8218-0b9a504d74f4",
      "metadata": {
        "id": "949132bc-d5b6-4611-8218-0b9a504d74f4"
      },
      "outputs": [],
      "source": [
        "# текст запроса"
      ]
    },
    {
      "cell_type": "code",
      "execution_count": null,
      "id": "a3V24Tvmviqk",
      "metadata": {
        "id": "a3V24Tvmviqk"
      },
      "outputs": [],
      "source": [
        "# результат запроса"
      ]
    },
    {
      "cell_type": "markdown",
      "id": "1041c17a-ca8f-4543-a0ca-32778914fb00",
      "metadata": {
        "id": "1041c17a-ca8f-4543-a0ca-32778914fb00"
      },
      "source": [
        "6. Напишите запрос, позволяющий вычислить, какую зарплату для DS в **среднем** указывают для каждого типа требуемого опыта (уникальное значение из поля *experience*). \n",
        "\n",
        "При решении задачи примите во внимание следующее:\n",
        "1. Рассматриваем только вакансии, у которых заполнено хотя бы одно из двух полей с зарплатой.\n",
        "2. Если заполнены оба поля с зарплатой, то считаем зарплату по каждой вакансии как сумму двух полей, делённую на 2. Если заполнено только одно из полей, то его и считаем зарплатой по вакансии.\n",
        "3. Если в расчётах участвует null, в результате он тоже даст null (посмотрите, что возвращает запрос select 1 + null). Чтобы избежать этой ситуацию, мы воспользуемся функцией [coalesce](https://postgrespro.ru/docs/postgresql/9.5/functions-conditional#functions-coalesce-nvl-ifnull), которая заменит null на значение, которое мы передадим. Например, посмотрите, что возвращает запрос `select 1 + coalesce(null, 0)`\n",
        "\n",
        "Выясните, на какую зарплату в среднем может рассчитывать дата-сайентист с опытом работы от 3 до 6 лет. Результат округлите до целого числа. "
      ]
    },
    {
      "cell_type": "code",
      "execution_count": null,
      "id": "6a743d39-5204-48d3-8271-b9f88e68d40e",
      "metadata": {
        "id": "6a743d39-5204-48d3-8271-b9f88e68d40e"
      },
      "outputs": [],
      "source": [
        "# текст запроса"
      ]
    },
    {
      "cell_type": "code",
      "execution_count": null,
      "id": "aRIJ0mZEwU1_",
      "metadata": {
        "id": "aRIJ0mZEwU1_"
      },
      "outputs": [],
      "source": [
        "# результат запроса"
      ]
    },
    {
      "cell_type": "markdown",
      "id": "6a7892b4-4113-4746-adce-18aa2844f18e",
      "metadata": {
        "id": "6a7892b4-4113-4746-adce-18aa2844f18e"
      },
      "source": [
        "***"
      ]
    },
    {
      "cell_type": "code",
      "execution_count": null,
      "id": "UjLWUptVwY1o",
      "metadata": {
        "id": "UjLWUptVwY1o"
      },
      "outputs": [],
      "source": [
        "# выводы по предметному анализу"
      ]
    },
    {
      "cell_type": "markdown",
      "id": "c0ED6fh7wiBT",
      "metadata": {
        "id": "c0ED6fh7wiBT"
      },
      "source": [
        "# Общий вывод по проекту"
      ]
    },
    {
      "cell_type": "code",
      "execution_count": null,
      "id": "h9B3BL-wwj18",
      "metadata": {
        "id": "h9B3BL-wwj18"
      },
      "outputs": [],
      "source": [
        "# подведем итог исследования, обобщите выводы\n",
        "# здесь можно (это будет плюсом) провести дополнительные исследования данных, сделать прогнозы, продумать варианты продолжения исследования"
      ]
    },
    {
      "attachments": {},
      "cell_type": "markdown",
      "id": "e09998ed",
      "metadata": {},
      "source": [
        "### Далее представлен дополнительный код, который использовался для доп. выводов:"
      ]
    },
    {
      "attachments": {},
      "cell_type": "markdown",
      "id": "b3a4d61f",
      "metadata": {},
      "source": [
        "* Приложение-1"
      ]
    },
    {
      "cell_type": "code",
      "execution_count": null,
      "id": "6f179999",
      "metadata": {},
      "outputs": [],
      "source": [
        "query_3_11_df['region'].iloc[query_3_11_df['num_vacancies'].nlargest(5).index]"
      ]
    },
    {
      "attachments": {},
      "cell_type": "markdown",
      "id": "d5844393",
      "metadata": {},
      "source": [
        "* Приложение-2"
      ]
    },
    {
      "cell_type": "code",
      "execution_count": null,
      "id": "c967e967",
      "metadata": {},
      "outputs": [],
      "source": [
        "query_3_14_Extra = f''' \n",
        "SELECT \n",
        "e.name company_name,\n",
        "COUNT(e_i.industry_id) num_industries\n",
        "  FROM employers e\n",
        "  LEFT JOIN employers_industries e_i ON e_i.employer_id=e.id\n",
        "  WHERE industry_id IS NOT NULL\n",
        "  GROUP BY e.id\n",
        "  ORDER BY num_industries DESC\n",
        "''' \n",
        "\n",
        "query_3_14_extra = pd.read_sql_query(query_3_14_Extra, connection)\n",
        "query_3_14_extra.head(5)"
      ]
    }
  ],
  "metadata": {
    "colab": {
      "collapsed_sections": [
        "8d62a9f3-f64e-4fe7-bdac-c4dffa16155e"
      ],
      "provenance": []
    },
    "kernelspec": {
      "display_name": "base",
      "language": "python",
      "name": "python3"
    },
    "language_info": {
      "codemirror_mode": {
        "name": "ipython",
        "version": 3
      },
      "file_extension": ".py",
      "mimetype": "text/x-python",
      "name": "python",
      "nbconvert_exporter": "python",
      "pygments_lexer": "ipython3",
      "version": "3.8.5"
    },
    "vscode": {
      "interpreter": {
        "hash": "6917956638b3be5acacfec6d20ae8bfb102549e0934ed0e9f85f22d841cac821"
      }
    }
  },
  "nbformat": 4,
  "nbformat_minor": 5
}
